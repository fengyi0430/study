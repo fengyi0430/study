{
 "cells": [
  {
   "cell_type": "code",
   "execution_count": 2,
   "metadata": {},
   "outputs": [
    {
     "name": "stdout",
     "output_type": "stream",
     "text": [
      "Found 2868 images belonging to 2 classes.\n",
      "Found 820 images belonging to 2 classes.\n"
     ]
    }
   ],
   "source": [
    "### 数据读取，以及格式规定\n",
    "from keras.preprocessing.image import ImageDataGenerator\n",
    "\n",
    "train_dir = 'datas/train'\n",
    "validation_dir = 'datas/validation'\n",
    "\n",
    "train_datagen = ImageDataGenerator(rescale = 1./255) #缩放图片1/255\n",
    "test_datagen = ImageDataGenerator(rescale = 1./255) #缩放图片1/255\n",
    "\n",
    "train_generator = train_datagen.flow_from_directory(\n",
    "        train_dir, #目标目录\n",
    "        target_size = (224,224), #图片都调整为150*150的格式大小\n",
    "        batch_size = 20,\n",
    "        class_mode = 'binary') #使用二进制标签\n",
    "validation_generator = test_datagen.flow_from_directory(\n",
    "        validation_dir, #目标目录\n",
    "        target_size = (224,224), #图片都调整为150*150的格式大小\n",
    "        batch_size = 20,\n",
    "        class_mode = 'binary') #使用二进制标签"
   ]
  },
  {
   "cell_type": "code",
   "execution_count": 3,
   "metadata": {},
   "outputs": [
    {
     "name": "stdout",
     "output_type": "stream",
     "text": [
      "WARNING:tensorflow:From C:\\Users\\acer\\Anaconda3\\lib\\site-packages\\keras\\backend\\tensorflow_backend.py:66: The name tf.get_default_graph is deprecated. Please use tf.compat.v1.get_default_graph instead.\n",
      "\n",
      "WARNING:tensorflow:From C:\\Users\\acer\\Anaconda3\\lib\\site-packages\\keras\\backend\\tensorflow_backend.py:541: The name tf.placeholder is deprecated. Please use tf.compat.v1.placeholder instead.\n",
      "\n",
      "WARNING:tensorflow:From C:\\Users\\acer\\Anaconda3\\lib\\site-packages\\keras\\backend\\tensorflow_backend.py:4432: The name tf.random_uniform is deprecated. Please use tf.random.uniform instead.\n",
      "\n",
      "WARNING:tensorflow:From C:\\Users\\acer\\Anaconda3\\lib\\site-packages\\keras\\backend\\tensorflow_backend.py:4267: The name tf.nn.max_pool is deprecated. Please use tf.nn.max_pool2d instead.\n",
      "\n",
      "WARNING:tensorflow:From C:\\Users\\acer\\Anaconda3\\lib\\site-packages\\keras\\backend\\tensorflow_backend.py:190: The name tf.get_default_session is deprecated. Please use tf.compat.v1.get_default_session instead.\n",
      "\n",
      "WARNING:tensorflow:From C:\\Users\\acer\\Anaconda3\\lib\\site-packages\\keras\\backend\\tensorflow_backend.py:197: The name tf.ConfigProto is deprecated. Please use tf.compat.v1.ConfigProto instead.\n",
      "\n",
      "Model: \"vgg16\"\n",
      "_________________________________________________________________\n",
      "Layer (type)                 Output Shape              Param #   \n",
      "=================================================================\n",
      "input_1 (InputLayer)         (None, 224, 224, 3)       0         \n",
      "_________________________________________________________________\n",
      "block1_conv1 (Conv2D)        (None, 224, 224, 64)      1792      \n",
      "_________________________________________________________________\n",
      "block1_conv2 (Conv2D)        (None, 224, 224, 64)      36928     \n",
      "_________________________________________________________________\n",
      "block1_pool (MaxPooling2D)   (None, 112, 112, 64)      0         \n",
      "_________________________________________________________________\n",
      "block2_conv1 (Conv2D)        (None, 112, 112, 128)     73856     \n",
      "_________________________________________________________________\n",
      "block2_conv2 (Conv2D)        (None, 112, 112, 128)     147584    \n",
      "_________________________________________________________________\n",
      "block2_pool (MaxPooling2D)   (None, 56, 56, 128)       0         \n",
      "_________________________________________________________________\n",
      "block3_conv1 (Conv2D)        (None, 56, 56, 256)       295168    \n",
      "_________________________________________________________________\n",
      "block3_conv2 (Conv2D)        (None, 56, 56, 256)       590080    \n",
      "_________________________________________________________________\n",
      "block3_conv3 (Conv2D)        (None, 56, 56, 256)       590080    \n",
      "_________________________________________________________________\n",
      "block3_pool (MaxPooling2D)   (None, 28, 28, 256)       0         \n",
      "_________________________________________________________________\n",
      "block4_conv1 (Conv2D)        (None, 28, 28, 512)       1180160   \n",
      "_________________________________________________________________\n",
      "block4_conv2 (Conv2D)        (None, 28, 28, 512)       2359808   \n",
      "_________________________________________________________________\n",
      "block4_conv3 (Conv2D)        (None, 28, 28, 512)       2359808   \n",
      "_________________________________________________________________\n",
      "block4_pool (MaxPooling2D)   (None, 14, 14, 512)       0         \n",
      "_________________________________________________________________\n",
      "block5_conv1 (Conv2D)        (None, 14, 14, 512)       2359808   \n",
      "_________________________________________________________________\n",
      "block5_conv2 (Conv2D)        (None, 14, 14, 512)       2359808   \n",
      "_________________________________________________________________\n",
      "block5_conv3 (Conv2D)        (None, 14, 14, 512)       2359808   \n",
      "_________________________________________________________________\n",
      "block5_pool (MaxPooling2D)   (None, 7, 7, 512)         0         \n",
      "=================================================================\n",
      "Total params: 14,714,688\n",
      "Trainable params: 14,714,688\n",
      "Non-trainable params: 0\n",
      "_________________________________________________________________\n"
     ]
    }
   ],
   "source": [
    "#使用VGG16卷积\n",
    "from keras.applications import VGG16\n",
    "\n",
    "conv_base = VGG16(weights = 'imagenet', #初始化权重检查点\n",
    "                  include_top = False, #是否包含全连接层，一般是不包含的\n",
    "                  input_shape = (224,224,3)) #输入网络的张量的形状，可以不设置，会自己去适应\n",
    "#查看模型的构造\n",
    "conv_base.summary()"
   ]
  },
  {
   "cell_type": "code",
   "execution_count": 4,
   "metadata": {},
   "outputs": [],
   "source": [
    "import numpy as np\n",
    "from keras import layers\n",
    "from keras import models\n",
    "from keras import optimizers"
   ]
  },
  {
   "cell_type": "code",
   "execution_count": 5,
   "metadata": {},
   "outputs": [],
   "source": [
    "train_dir = 'datas/train'\n",
    "validation_dir = 'datas/validation'\n",
    "test_dir = 'datas/test'"
   ]
  },
  {
   "cell_type": "code",
   "execution_count": 6,
   "metadata": {},
   "outputs": [
    {
     "name": "stdout",
     "output_type": "stream",
     "text": [
      "Found 2868 images belonging to 2 classes.\n",
      "Found 820 images belonging to 2 classes.\n",
      "Found 411 images belonging to 2 classes.\n"
     ]
    }
   ],
   "source": [
    "#使用预训练的卷积基来提取特征\n",
    "#无法使用特征增强\n",
    "datagen = ImageDataGenerator(rescale = 1./255)\n",
    "batch_size = 20\n",
    "#提取特征\n",
    "def extract_features(directory,sample_count):\n",
    "    #特征保存\n",
    "    features = np.zeros(shape = (sample_count,7,7,512))\n",
    "    labels = np.zeros(shape = (sample_count))\n",
    "    #读取图片列表\n",
    "    generator = datagen.flow_from_directory(\n",
    "        directory,\n",
    "        target_size = (224,224),\n",
    "        batch_size = batch_size,\n",
    "        class_mode = 'binary')\n",
    "    i = 0\n",
    "    for inputs_batch,labels_batch in generator:\n",
    "        #特征提取\n",
    "        features_batch = conv_base.predict(inputs_batch)\n",
    "        features[i * batch_size:(i + 1) * batch_size] = features_batch\n",
    "        labels[i * batch_size:(i + 1) * batch_size] = labels_batch\n",
    "        i += 1\n",
    "        if i * batch_size >= sample_count:\n",
    "            break\n",
    "    return features,labels\n",
    "\n",
    "train_features, train_labels = extract_features(train_dir, 778+2090)\n",
    "validation_features, validation_labels = extract_features(validation_dir, 222+598)\n",
    "test_features, test_labels = extract_features(test_dir, 112+299)"
   ]
  },
  {
   "cell_type": "code",
   "execution_count": 7,
   "metadata": {},
   "outputs": [],
   "source": [
    "#将数据铺平，放入全连接层\n",
    "train_features = np.reshape(train_features, (778+2090, 7 * 7 * 512))\n",
    "validation_features = np.reshape(validation_features, (222+598, 7 * 7 * 512))\n",
    "test_features = np.reshape(test_features, (112+299, 7 * 7 * 512))"
   ]
  },
  {
   "cell_type": "code",
   "execution_count": 8,
   "metadata": {},
   "outputs": [
    {
     "name": "stdout",
     "output_type": "stream",
     "text": [
      "WARNING:tensorflow:From C:\\Users\\acer\\Anaconda3\\lib\\site-packages\\keras\\backend\\tensorflow_backend.py:3733: calling dropout (from tensorflow.python.ops.nn_ops) with keep_prob is deprecated and will be removed in a future version.\n",
      "Instructions for updating:\n",
      "Please use `rate` instead of `keep_prob`. Rate should be set to `rate = 1 - keep_prob`.\n",
      "WARNING:tensorflow:From C:\\Users\\acer\\Anaconda3\\lib\\site-packages\\keras\\optimizers.py:793: The name tf.train.Optimizer is deprecated. Please use tf.compat.v1.train.Optimizer instead.\n",
      "\n",
      "WARNING:tensorflow:From C:\\Users\\acer\\Anaconda3\\lib\\site-packages\\tensorflow\\python\\ops\\nn_impl.py:180: add_dispatch_support.<locals>.wrapper (from tensorflow.python.ops.array_ops) is deprecated and will be removed in a future version.\n",
      "Instructions for updating:\n",
      "Use tf.where in 2.0, which has the same broadcast rule as np.where\n",
      "Train on 2868 samples, validate on 820 samples\n",
      "Epoch 1/20\n",
      "2868/2868 [==============================] - 25s 9ms/step - loss: 0.2743 - acc: 0.8912 - val_loss: 0.1677 - val_acc: 0.9488\n",
      "Epoch 2/20\n",
      "2868/2868 [==============================] - 26s 9ms/step - loss: 0.1486 - acc: 0.9425 - val_loss: 0.1349 - val_acc: 0.9524\n",
      "Epoch 3/20\n",
      "2868/2868 [==============================] - 23s 8ms/step - loss: 0.1326 - acc: 0.9536 - val_loss: 0.1229 - val_acc: 0.9524\n",
      "Epoch 4/20\n",
      "2868/2868 [==============================] - 22s 8ms/step - loss: 0.1121 - acc: 0.9662 - val_loss: 0.1257 - val_acc: 0.9476\n",
      "Epoch 5/20\n",
      "2868/2868 [==============================] - 22s 8ms/step - loss: 0.1031 - acc: 0.9658 - val_loss: 0.1253 - val_acc: 0.9610\n",
      "Epoch 6/20\n",
      "2868/2868 [==============================] - 22s 8ms/step - loss: 0.0924 - acc: 0.9679 - val_loss: 0.1093 - val_acc: 0.9561\n",
      "Epoch 7/20\n",
      "2868/2868 [==============================] - 22s 8ms/step - loss: 0.0887 - acc: 0.9700 - val_loss: 0.1070 - val_acc: 0.9585\n",
      "Epoch 8/20\n",
      "2868/2868 [==============================] - 22s 8ms/step - loss: 0.0860 - acc: 0.9683 - val_loss: 0.1075 - val_acc: 0.9573\n",
      "Epoch 9/20\n",
      "2868/2868 [==============================] - 24s 8ms/step - loss: 0.0820 - acc: 0.9721 - val_loss: 0.1046 - val_acc: 0.9573\n",
      "Epoch 10/20\n",
      "2868/2868 [==============================] - 22s 8ms/step - loss: 0.0747 - acc: 0.9732 - val_loss: 0.1019 - val_acc: 0.9598\n",
      "Epoch 11/20\n",
      "2868/2868 [==============================] - 23s 8ms/step - loss: 0.0669 - acc: 0.9791 - val_loss: 0.1088 - val_acc: 0.9622\n",
      "Epoch 12/20\n",
      "2868/2868 [==============================] - 22s 8ms/step - loss: 0.0725 - acc: 0.9738 - val_loss: 0.1273 - val_acc: 0.9585\n",
      "Epoch 13/20\n",
      "2868/2868 [==============================] - 22s 8ms/step - loss: 0.0638 - acc: 0.9794 - val_loss: 0.1037 - val_acc: 0.9622\n",
      "Epoch 14/20\n",
      "2868/2868 [==============================] - 23s 8ms/step - loss: 0.0638 - acc: 0.9780 - val_loss: 0.1071 - val_acc: 0.9622\n",
      "Epoch 15/20\n",
      "2868/2868 [==============================] - 22s 8ms/step - loss: 0.0609 - acc: 0.9784 - val_loss: 0.1013 - val_acc: 0.9622\n",
      "Epoch 16/20\n",
      "2868/2868 [==============================] - 22s 8ms/step - loss: 0.0594 - acc: 0.9773 - val_loss: 0.0994 - val_acc: 0.9622\n",
      "Epoch 17/20\n",
      "2868/2868 [==============================] - 22s 8ms/step - loss: 0.0531 - acc: 0.9826 - val_loss: 0.1013 - val_acc: 0.9622\n",
      "Epoch 18/20\n",
      "2868/2868 [==============================] - 23s 8ms/step - loss: 0.0507 - acc: 0.9826 - val_loss: 0.1035 - val_acc: 0.9683\n",
      "Epoch 19/20\n",
      "2868/2868 [==============================] - 22s 8ms/step - loss: 0.0506 - acc: 0.9812 - val_loss: 0.1023 - val_acc: 0.9622\n",
      "Epoch 20/20\n",
      "2868/2868 [==============================] - 22s 8ms/step - loss: 0.0513 - acc: 0.9829 - val_loss: 0.1001 - val_acc: 0.9610\n"
     ]
    }
   ],
   "source": [
    "#构建全连接层\n",
    "model = models.Sequential()\n",
    "model.add(layers.Dense(256,activation = 'relu',input_dim = 7 * 7 * 512))\n",
    "model.add(layers.Dropout(0.5))\n",
    "model.add(layers.Dense(1,activation = 'sigmoid'))\n",
    "#损失函数\n",
    "model.compile(optimizer = optimizers.RMSprop(lr = 2e-5),\n",
    "              loss = 'binary_crossentropy',\n",
    "              metrics = ['acc'])\n",
    "history = model.fit(train_features,train_labels,\n",
    "                    epochs = 20,\n",
    "                    batch_size = 20,\n",
    "                    validation_data = (validation_features,validation_labels))"
   ]
  },
  {
   "cell_type": "code",
   "execution_count": 9,
   "metadata": {},
   "outputs": [],
   "source": [
    "import matplotlib.pyplot as plt\n",
    "def plot_to(history_dict):\n",
    "    x = list(range(len(history_dict['val_acc'])))\n",
    "    plt.plot(x,history_dict['acc'],label = 'train-acc')\n",
    "    plt.plot(x,history_dict['val_acc'],label = 'val-acc')\n",
    "    plt.xlabel('epoch')\n",
    "    plt.ylabel('acc')\n",
    "    plt.legend()\n",
    "    plt.show()"
   ]
  },
  {
   "cell_type": "code",
   "execution_count": 10,
   "metadata": {},
   "outputs": [
    {
     "data": {
      "image/png": "[encoded data removed]",
      "text/plain": [
       "<Figure size 432x288 with 1 Axes>"
      ]
     },
     "metadata": {
      "needs_background": "light"
     },
     "output_type": "display_data"
    }
   ],
   "source": [
    "history_dict = history.history\n",
    "plot_to(history_dict)"
   ]
  },
  {
   "cell_type": "code",
   "execution_count": null,
   "metadata": {},
   "outputs": [],
   "source": []
  }
 ],
 "metadata": {
  "kernelspec": {
   "display_name": "Python 3",
   "language": "python",
   "name": "python3"
  },
  "language_info": {
   "codemirror_mode": {
    "name": "ipython",
    "version": 3
   },
   "file_extension": ".py",
   "mimetype": "text/x-python",
   "name": "python",
   "nbconvert_exporter": "python",
   "pygments_lexer": "ipython3",
   "version": "3.7.0"
  }
 },
 "nbformat": 4,
 "nbformat_minor": 2
}
